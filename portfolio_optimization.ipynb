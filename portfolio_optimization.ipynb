{
  "nbformat": 4,
  "nbformat_minor": 0,
  "metadata": {
    "colab": {
      "provenance": []
    },
    "kernelspec": {
      "name": "python3",
      "display_name": "Python 3"
    },
    "language_info": {
      "name": "python"
    }
  },
  "cells": [
    {
      "cell_type": "code",
      "execution_count": null,
      "metadata": {
        "id": "RwWoNk_5bglN",
        "colab": {
          "base_uri": "https://localhost:8080/",
          "height": 1000
        },
        "outputId": "9f997546-8d9b-4671-9da7-1189644f06dd"
      },
      "outputs": [
        {
          "output_type": "stream",
          "name": "stdout",
          "text": [
            "             0          1          2          3          4          5   \\\n",
            "0    2018-01-02  62.400002  64.421997  62.200001  64.106003  64.106003   \n",
            "1    2018-01-03  64.199997  65.050003  63.110001  63.450001  63.450001   \n",
            "2    2018-01-04  62.574001  63.709999  61.136002  62.924000  62.924000   \n",
            "3    2018-01-05  63.324001  63.448002  62.400002  63.316002  63.316002   \n",
            "4    2018-01-08  63.200001  67.403999  63.099998  67.281998  67.281998   \n",
            "..          ...        ...        ...        ...        ...        ...   \n",
            "497  2019-12-23  82.356003  84.402000  82.000000  83.844002  83.844002   \n",
            "498  2019-12-24  83.671997  85.094002  82.538002  85.050003  85.050003   \n",
            "499  2019-12-26  85.582001  86.695999  85.269997  86.188004  86.188004   \n",
            "500  2019-12-27  87.000000  87.061996  85.222000  86.075996  86.075996   \n",
            "501  2019-12-30  85.758003  85.800003  81.851997  82.940002  82.940002   \n",
            "\n",
            "           6           7           8           9           10          11  \\\n",
            "0    21761000  2018-01-02  177.679993  181.580002  177.550003  181.419998   \n",
            "1    22607500  2018-01-03  181.880005  184.779999  181.330002  184.669998   \n",
            "2    49731500  2018-01-04  184.899994  186.210007  184.100006  184.330002   \n",
            "3    22956000  2018-01-05  185.589996  186.899994  184.929993  186.850006   \n",
            "4    49297000  2018-01-08  187.199997  188.899994  186.330002  188.279999   \n",
            "..        ...         ...         ...         ...         ...         ...   \n",
            "497  66598000  2019-12-23  206.699997  208.589996  205.679993  206.179993   \n",
            "498  40273500  2019-12-24  206.300003  206.789993  205.000000  205.119995   \n",
            "499  53169500  2019-12-26  205.570007  207.820007  205.309998  207.789993   \n",
            "500  49728500  2019-12-27  208.669998  208.929993  206.589996  208.100006   \n",
            "501  62932000  2019-12-30  207.860001  207.899994  203.899994  204.410004   \n",
            "\n",
            "             12        13  \n",
            "0    181.419998  18151900  \n",
            "1    184.669998  16886600  \n",
            "2    184.330002  13880900  \n",
            "3    186.850006  13574500  \n",
            "4    188.279999  17994700  \n",
            "..          ...       ...  \n",
            "497  206.179993  13348900  \n",
            "498  205.119995   6046300  \n",
            "499  207.789993   9350700  \n",
            "500  208.100006  10284200  \n",
            "501  204.410004  10524300  \n",
            "\n",
            "[502 rows x 14 columns]\n"
          ]
        },
        {
          "output_type": "execute_result",
          "data": {
            "text/plain": [
              "         Date       Open       High        Low      Close  Adj Close  \\\n",
              "0  2018-01-02  62.400002  64.421997  62.200001  64.106003  64.106003   \n",
              "1  2018-01-03  64.199997  65.050003  63.110001  63.450001  63.450001   \n",
              "2  2018-01-04  62.574001  63.709999  61.136002  62.924000  62.924000   \n",
              "3  2018-01-05  63.324001  63.448002  62.400002  63.316002  63.316002   \n",
              "4  2018-01-08  63.200001  67.403999  63.099998  67.281998  67.281998   \n",
              "\n",
              "     Volume        Date        Open        High         Low       Close  \\\n",
              "0  21761000  2018-01-02  177.679993  181.580002  177.550003  181.419998   \n",
              "1  22607500  2018-01-03  181.880005  184.779999  181.330002  184.669998   \n",
              "2  49731500  2018-01-04  184.899994  186.210007  184.100006  184.330002   \n",
              "3  22956000  2018-01-05  185.589996  186.899994  184.929993  186.850006   \n",
              "4  49297000  2018-01-08  187.199997  188.899994  186.330002  188.279999   \n",
              "\n",
              "    Adj Close    Volume  \n",
              "0  181.419998  18151900  \n",
              "1  184.669998  16886600  \n",
              "2  184.330002  13880900  \n",
              "3  186.850006  13574500  \n",
              "4  188.279999  17994700  "
            ],
            "text/html": [
              "\n",
              "  <div id=\"df-384aec71-2d42-4ee7-89f3-0c5c55fb3e43\">\n",
              "    <div class=\"colab-df-container\">\n",
              "      <div>\n",
              "<style scoped>\n",
              "    .dataframe tbody tr th:only-of-type {\n",
              "        vertical-align: middle;\n",
              "    }\n",
              "\n",
              "    .dataframe tbody tr th {\n",
              "        vertical-align: top;\n",
              "    }\n",
              "\n",
              "    .dataframe thead th {\n",
              "        text-align: right;\n",
              "    }\n",
              "</style>\n",
              "<table border=\"1\" class=\"dataframe\">\n",
              "  <thead>\n",
              "    <tr style=\"text-align: right;\">\n",
              "      <th></th>\n",
              "      <th>Date</th>\n",
              "      <th>Open</th>\n",
              "      <th>High</th>\n",
              "      <th>Low</th>\n",
              "      <th>Close</th>\n",
              "      <th>Adj Close</th>\n",
              "      <th>Volume</th>\n",
              "      <th>Date</th>\n",
              "      <th>Open</th>\n",
              "      <th>High</th>\n",
              "      <th>Low</th>\n",
              "      <th>Close</th>\n",
              "      <th>Adj Close</th>\n",
              "      <th>Volume</th>\n",
              "    </tr>\n",
              "  </thead>\n",
              "  <tbody>\n",
              "    <tr>\n",
              "      <th>0</th>\n",
              "      <td>2018-01-02</td>\n",
              "      <td>62.400002</td>\n",
              "      <td>64.421997</td>\n",
              "      <td>62.200001</td>\n",
              "      <td>64.106003</td>\n",
              "      <td>64.106003</td>\n",
              "      <td>21761000</td>\n",
              "      <td>2018-01-02</td>\n",
              "      <td>177.679993</td>\n",
              "      <td>181.580002</td>\n",
              "      <td>177.550003</td>\n",
              "      <td>181.419998</td>\n",
              "      <td>181.419998</td>\n",
              "      <td>18151900</td>\n",
              "    </tr>\n",
              "    <tr>\n",
              "      <th>1</th>\n",
              "      <td>2018-01-03</td>\n",
              "      <td>64.199997</td>\n",
              "      <td>65.050003</td>\n",
              "      <td>63.110001</td>\n",
              "      <td>63.450001</td>\n",
              "      <td>63.450001</td>\n",
              "      <td>22607500</td>\n",
              "      <td>2018-01-03</td>\n",
              "      <td>181.880005</td>\n",
              "      <td>184.779999</td>\n",
              "      <td>181.330002</td>\n",
              "      <td>184.669998</td>\n",
              "      <td>184.669998</td>\n",
              "      <td>16886600</td>\n",
              "    </tr>\n",
              "    <tr>\n",
              "      <th>2</th>\n",
              "      <td>2018-01-04</td>\n",
              "      <td>62.574001</td>\n",
              "      <td>63.709999</td>\n",
              "      <td>61.136002</td>\n",
              "      <td>62.924000</td>\n",
              "      <td>62.924000</td>\n",
              "      <td>49731500</td>\n",
              "      <td>2018-01-04</td>\n",
              "      <td>184.899994</td>\n",
              "      <td>186.210007</td>\n",
              "      <td>184.100006</td>\n",
              "      <td>184.330002</td>\n",
              "      <td>184.330002</td>\n",
              "      <td>13880900</td>\n",
              "    </tr>\n",
              "    <tr>\n",
              "      <th>3</th>\n",
              "      <td>2018-01-05</td>\n",
              "      <td>63.324001</td>\n",
              "      <td>63.448002</td>\n",
              "      <td>62.400002</td>\n",
              "      <td>63.316002</td>\n",
              "      <td>63.316002</td>\n",
              "      <td>22956000</td>\n",
              "      <td>2018-01-05</td>\n",
              "      <td>185.589996</td>\n",
              "      <td>186.899994</td>\n",
              "      <td>184.929993</td>\n",
              "      <td>186.850006</td>\n",
              "      <td>186.850006</td>\n",
              "      <td>13574500</td>\n",
              "    </tr>\n",
              "    <tr>\n",
              "      <th>4</th>\n",
              "      <td>2018-01-08</td>\n",
              "      <td>63.200001</td>\n",
              "      <td>67.403999</td>\n",
              "      <td>63.099998</td>\n",
              "      <td>67.281998</td>\n",
              "      <td>67.281998</td>\n",
              "      <td>49297000</td>\n",
              "      <td>2018-01-08</td>\n",
              "      <td>187.199997</td>\n",
              "      <td>188.899994</td>\n",
              "      <td>186.330002</td>\n",
              "      <td>188.279999</td>\n",
              "      <td>188.279999</td>\n",
              "      <td>17994700</td>\n",
              "    </tr>\n",
              "  </tbody>\n",
              "</table>\n",
              "</div>\n",
              "      <button class=\"colab-df-convert\" onclick=\"convertToInteractive('df-384aec71-2d42-4ee7-89f3-0c5c55fb3e43')\"\n",
              "              title=\"Convert this dataframe to an interactive table.\"\n",
              "              style=\"display:none;\">\n",
              "        \n",
              "  <svg xmlns=\"http://www.w3.org/2000/svg\" height=\"24px\"viewBox=\"0 0 24 24\"\n",
              "       width=\"24px\">\n",
              "    <path d=\"M0 0h24v24H0V0z\" fill=\"none\"/>\n",
              "    <path d=\"M18.56 5.44l.94 2.06.94-2.06 2.06-.94-2.06-.94-.94-2.06-.94 2.06-2.06.94zm-11 1L8.5 8.5l.94-2.06 2.06-.94-2.06-.94L8.5 2.5l-.94 2.06-2.06.94zm10 10l.94 2.06.94-2.06 2.06-.94-2.06-.94-.94-2.06-.94 2.06-2.06.94z\"/><path d=\"M17.41 7.96l-1.37-1.37c-.4-.4-.92-.59-1.43-.59-.52 0-1.04.2-1.43.59L10.3 9.45l-7.72 7.72c-.78.78-.78 2.05 0 2.83L4 21.41c.39.39.9.59 1.41.59.51 0 1.02-.2 1.41-.59l7.78-7.78 2.81-2.81c.8-.78.8-2.07 0-2.86zM5.41 20L4 18.59l7.72-7.72 1.47 1.35L5.41 20z\"/>\n",
              "  </svg>\n",
              "      </button>\n",
              "      \n",
              "  <style>\n",
              "    .colab-df-container {\n",
              "      display:flex;\n",
              "      flex-wrap:wrap;\n",
              "      gap: 12px;\n",
              "    }\n",
              "\n",
              "    .colab-df-convert {\n",
              "      background-color: #E8F0FE;\n",
              "      border: none;\n",
              "      border-radius: 50%;\n",
              "      cursor: pointer;\n",
              "      display: none;\n",
              "      fill: #1967D2;\n",
              "      height: 32px;\n",
              "      padding: 0 0 0 0;\n",
              "      width: 32px;\n",
              "    }\n",
              "\n",
              "    .colab-df-convert:hover {\n",
              "      background-color: #E2EBFA;\n",
              "      box-shadow: 0px 1px 2px rgba(60, 64, 67, 0.3), 0px 1px 3px 1px rgba(60, 64, 67, 0.15);\n",
              "      fill: #174EA6;\n",
              "    }\n",
              "\n",
              "    [theme=dark] .colab-df-convert {\n",
              "      background-color: #3B4455;\n",
              "      fill: #D2E3FC;\n",
              "    }\n",
              "\n",
              "    [theme=dark] .colab-df-convert:hover {\n",
              "      background-color: #434B5C;\n",
              "      box-shadow: 0px 1px 3px 1px rgba(0, 0, 0, 0.15);\n",
              "      filter: drop-shadow(0px 1px 2px rgba(0, 0, 0, 0.3));\n",
              "      fill: #FFFFFF;\n",
              "    }\n",
              "  </style>\n",
              "\n",
              "      <script>\n",
              "        const buttonEl =\n",
              "          document.querySelector('#df-384aec71-2d42-4ee7-89f3-0c5c55fb3e43 button.colab-df-convert');\n",
              "        buttonEl.style.display =\n",
              "          google.colab.kernel.accessAllowed ? 'block' : 'none';\n",
              "\n",
              "        async function convertToInteractive(key) {\n",
              "          const element = document.querySelector('#df-384aec71-2d42-4ee7-89f3-0c5c55fb3e43');\n",
              "          const dataTable =\n",
              "            await google.colab.kernel.invokeFunction('convertToInteractive',\n",
              "                                                     [key], {});\n",
              "          if (!dataTable) return;\n",
              "\n",
              "          const docLinkHtml = 'Like what you see? Visit the ' +\n",
              "            '<a target=\"_blank\" href=https://colab.research.google.com/notebooks/data_table.ipynb>data table notebook</a>'\n",
              "            + ' to learn more about interactive tables.';\n",
              "          element.innerHTML = '';\n",
              "          dataTable['output_type'] = 'display_data';\n",
              "          await google.colab.output.renderOutput(dataTable, element);\n",
              "          const docLink = document.createElement('div');\n",
              "          docLink.innerHTML = docLinkHtml;\n",
              "          element.appendChild(docLink);\n",
              "        }\n",
              "      </script>\n",
              "    </div>\n",
              "  </div>\n",
              "  "
            ]
          },
          "metadata": {},
          "execution_count": 51
        }
      ],
      "source": [
        "# Load Packages\n",
        "import numpy as np\n",
        "import pandas as pd\n",
        "from pandas_datareader import data\n",
        "import matplotlib.pyplot as plt\n",
        "%matplotlib inline\n",
        "\n",
        "# Read Data - TSLA\n",
        "test1 = pd.read_csv('TSLA.csv')\n",
        "test1.head()\n",
        "\n",
        "#Read Data = FB\n",
        "test2 = pd.read_csv('FB.csv')\n",
        "test2.head()\n",
        "\n",
        "test = pd.concat([test1, test2], axis = 1, ignore_index=True)\n",
        "print(test)\n",
        "\n",
        "#combine file \n",
        "test.to_csv('combined_file.csv', index=False)\n",
        "\n",
        "test = pd.read_csv('combined_file.csv')\n",
        "\n",
        "test.rename(columns={'0': 'Date', '1': 'Open','2': 'High'\n",
        ",'3': 'Low','4': 'Close','5': 'Adj Close','6': 'Volume','7': 'Date'\n",
        ",'8': 'Open','9': 'High','10': 'Low','11': 'Close'\n",
        ",'12': 'Adj Close','13': 'Volume'}, inplace=True)\n",
        "\n",
        "test.head()\n"
      ]
    },
    {
      "cell_type": "code",
      "source": [
        "# Closing price\n",
        "test = test['Adj Close']\n",
        "\n",
        "test.head()\n"
      ],
      "metadata": {
        "id": "gUf9lA5XciJR",
        "colab": {
          "base_uri": "https://localhost:8080/",
          "height": 206
        },
        "outputId": "879b5819-6910-4dac-8cb9-836f38c846f9"
      },
      "execution_count": null,
      "outputs": [
        {
          "output_type": "execute_result",
          "data": {
            "text/plain": [
              "   Adj Close   Adj Close\n",
              "0  64.106003  181.419998\n",
              "1  63.450001  184.669998\n",
              "2  62.924000  184.330002\n",
              "3  63.316002  186.850006\n",
              "4  67.281998  188.279999"
            ],
            "text/html": [
              "\n",
              "  <div id=\"df-25ec4398-e165-4666-ac94-124a3d822790\">\n",
              "    <div class=\"colab-df-container\">\n",
              "      <div>\n",
              "<style scoped>\n",
              "    .dataframe tbody tr th:only-of-type {\n",
              "        vertical-align: middle;\n",
              "    }\n",
              "\n",
              "    .dataframe tbody tr th {\n",
              "        vertical-align: top;\n",
              "    }\n",
              "\n",
              "    .dataframe thead th {\n",
              "        text-align: right;\n",
              "    }\n",
              "</style>\n",
              "<table border=\"1\" class=\"dataframe\">\n",
              "  <thead>\n",
              "    <tr style=\"text-align: right;\">\n",
              "      <th></th>\n",
              "      <th>Adj Close</th>\n",
              "      <th>Adj Close</th>\n",
              "    </tr>\n",
              "  </thead>\n",
              "  <tbody>\n",
              "    <tr>\n",
              "      <th>0</th>\n",
              "      <td>64.106003</td>\n",
              "      <td>181.419998</td>\n",
              "    </tr>\n",
              "    <tr>\n",
              "      <th>1</th>\n",
              "      <td>63.450001</td>\n",
              "      <td>184.669998</td>\n",
              "    </tr>\n",
              "    <tr>\n",
              "      <th>2</th>\n",
              "      <td>62.924000</td>\n",
              "      <td>184.330002</td>\n",
              "    </tr>\n",
              "    <tr>\n",
              "      <th>3</th>\n",
              "      <td>63.316002</td>\n",
              "      <td>186.850006</td>\n",
              "    </tr>\n",
              "    <tr>\n",
              "      <th>4</th>\n",
              "      <td>67.281998</td>\n",
              "      <td>188.279999</td>\n",
              "    </tr>\n",
              "  </tbody>\n",
              "</table>\n",
              "</div>\n",
              "      <button class=\"colab-df-convert\" onclick=\"convertToInteractive('df-25ec4398-e165-4666-ac94-124a3d822790')\"\n",
              "              title=\"Convert this dataframe to an interactive table.\"\n",
              "              style=\"display:none;\">\n",
              "        \n",
              "  <svg xmlns=\"http://www.w3.org/2000/svg\" height=\"24px\"viewBox=\"0 0 24 24\"\n",
              "       width=\"24px\">\n",
              "    <path d=\"M0 0h24v24H0V0z\" fill=\"none\"/>\n",
              "    <path d=\"M18.56 5.44l.94 2.06.94-2.06 2.06-.94-2.06-.94-.94-2.06-.94 2.06-2.06.94zm-11 1L8.5 8.5l.94-2.06 2.06-.94-2.06-.94L8.5 2.5l-.94 2.06-2.06.94zm10 10l.94 2.06.94-2.06 2.06-.94-2.06-.94-.94-2.06-.94 2.06-2.06.94z\"/><path d=\"M17.41 7.96l-1.37-1.37c-.4-.4-.92-.59-1.43-.59-.52 0-1.04.2-1.43.59L10.3 9.45l-7.72 7.72c-.78.78-.78 2.05 0 2.83L4 21.41c.39.39.9.59 1.41.59.51 0 1.02-.2 1.41-.59l7.78-7.78 2.81-2.81c.8-.78.8-2.07 0-2.86zM5.41 20L4 18.59l7.72-7.72 1.47 1.35L5.41 20z\"/>\n",
              "  </svg>\n",
              "      </button>\n",
              "      \n",
              "  <style>\n",
              "    .colab-df-container {\n",
              "      display:flex;\n",
              "      flex-wrap:wrap;\n",
              "      gap: 12px;\n",
              "    }\n",
              "\n",
              "    .colab-df-convert {\n",
              "      background-color: #E8F0FE;\n",
              "      border: none;\n",
              "      border-radius: 50%;\n",
              "      cursor: pointer;\n",
              "      display: none;\n",
              "      fill: #1967D2;\n",
              "      height: 32px;\n",
              "      padding: 0 0 0 0;\n",
              "      width: 32px;\n",
              "    }\n",
              "\n",
              "    .colab-df-convert:hover {\n",
              "      background-color: #E2EBFA;\n",
              "      box-shadow: 0px 1px 2px rgba(60, 64, 67, 0.3), 0px 1px 3px 1px rgba(60, 64, 67, 0.15);\n",
              "      fill: #174EA6;\n",
              "    }\n",
              "\n",
              "    [theme=dark] .colab-df-convert {\n",
              "      background-color: #3B4455;\n",
              "      fill: #D2E3FC;\n",
              "    }\n",
              "\n",
              "    [theme=dark] .colab-df-convert:hover {\n",
              "      background-color: #434B5C;\n",
              "      box-shadow: 0px 1px 3px 1px rgba(0, 0, 0, 0.15);\n",
              "      filter: drop-shadow(0px 1px 2px rgba(0, 0, 0, 0.3));\n",
              "      fill: #FFFFFF;\n",
              "    }\n",
              "  </style>\n",
              "\n",
              "      <script>\n",
              "        const buttonEl =\n",
              "          document.querySelector('#df-25ec4398-e165-4666-ac94-124a3d822790 button.colab-df-convert');\n",
              "        buttonEl.style.display =\n",
              "          google.colab.kernel.accessAllowed ? 'block' : 'none';\n",
              "\n",
              "        async function convertToInteractive(key) {\n",
              "          const element = document.querySelector('#df-25ec4398-e165-4666-ac94-124a3d822790');\n",
              "          const dataTable =\n",
              "            await google.colab.kernel.invokeFunction('convertToInteractive',\n",
              "                                                     [key], {});\n",
              "          if (!dataTable) return;\n",
              "\n",
              "          const docLinkHtml = 'Like what you see? Visit the ' +\n",
              "            '<a target=\"_blank\" href=https://colab.research.google.com/notebooks/data_table.ipynb>data table notebook</a>'\n",
              "            + ' to learn more about interactive tables.';\n",
              "          element.innerHTML = '';\n",
              "          dataTable['output_type'] = 'display_data';\n",
              "          await google.colab.output.renderOutput(dataTable, element);\n",
              "          const docLink = document.createElement('div');\n",
              "          docLink.innerHTML = docLinkHtml;\n",
              "          element.appendChild(docLink);\n",
              "        }\n",
              "      </script>\n",
              "    </div>\n",
              "  </div>\n",
              "  "
            ]
          },
          "metadata": {},
          "execution_count": 52
        }
      ]
    },
    {
      "cell_type": "code",
      "source": [
        "test1.index\n",
        "test1.set_index('Date', inplace=True)\n",
        "# test1.drop('Date')\n",
        "# test1.head()\n"
      ],
      "metadata": {
        "id": "Bxn23saObodd"
      },
      "execution_count": null,
      "outputs": []
    },
    {
      "cell_type": "code",
      "source": [
        "# Log of percentage change\n",
        "tesla = test1['Adj Close'].pct_change().apply(lambda x: np.log(1+x))\n",
        "tesla.head()\n"
      ],
      "metadata": {
        "colab": {
          "base_uri": "https://localhost:8080/"
        },
        "id": "Z5MNXkXPZ187",
        "outputId": "e688d8b6-7c66-4546-a8f1-3bedca422887"
      },
      "execution_count": null,
      "outputs": [
        {
          "output_type": "execute_result",
          "data": {
            "text/plain": [
              "0         NaN\n",
              "1   -0.010286\n",
              "2   -0.008325\n",
              "3    0.006210\n",
              "4    0.060755\n",
              "Name: Adj Close, dtype: float64"
            ]
          },
          "metadata": {},
          "execution_count": 53
        }
      ]
    },
    {
      "cell_type": "code",
      "source": [
        "# Variance\n",
        "var_tesla = tesla.var()\n",
        "var_tesla"
      ],
      "metadata": {
        "colab": {
          "base_uri": "https://localhost:8080/"
        },
        "id": "zsgDy7xXbzir",
        "outputId": "dd6f8a2e-ea46-4070-de1f-5d5e003a2ff0"
      },
      "execution_count": null,
      "outputs": [
        {
          "output_type": "execute_result",
          "data": {
            "text/plain": [
              "0.0011505359264493544"
            ]
          },
          "metadata": {},
          "execution_count": 34
        }
      ]
    },
    {
      "cell_type": "code",
      "source": [
        "# Log of Percentage change for Facebook\n",
        "fb = test2['Adj Close'].pct_change().apply(lambda x: np.log(1+x))\n",
        "fb.head()"
      ],
      "metadata": {
        "colab": {
          "base_uri": "https://localhost:8080/"
        },
        "id": "UkXYXYBsjDJ2",
        "outputId": "ee1835d2-5c65-4049-9b0c-015c569b3fa4"
      },
      "execution_count": null,
      "outputs": [
        {
          "output_type": "execute_result",
          "data": {
            "text/plain": [
              "0         NaN\n",
              "1    0.017756\n",
              "2   -0.001843\n",
              "3    0.013579\n",
              "4    0.007624\n",
              "Name: Adj Close, dtype: float64"
            ]
          },
          "metadata": {},
          "execution_count": 35
        }
      ]
    },
    {
      "cell_type": "code",
      "source": [
        "# Variance\n",
        "var_fb = fb.var()\n",
        "var_fb\n"
      ],
      "metadata": {
        "colab": {
          "base_uri": "https://localhost:8080/"
        },
        "id": "YKuc9ZB3jP2f",
        "outputId": "31d1393d-d7a4-4a50-d8e2-63db162cd340"
      },
      "execution_count": null,
      "outputs": [
        {
          "output_type": "execute_result",
          "data": {
            "text/plain": [
              "0.0004578567470936306"
            ]
          },
          "metadata": {},
          "execution_count": 36
        }
      ]
    },
    {
      "cell_type": "code",
      "source": [
        "# Volatility\n",
        "tesla_vol = np.sqrt(var_tesla * 250)\n",
        "fb_vol = np.sqrt(var_fb * 250)\n",
        "tesla_vol, fb_vol\n"
      ],
      "metadata": {
        "colab": {
          "base_uri": "https://localhost:8080/"
        },
        "id": "Mk_148p1jWPz",
        "outputId": "e5fc2e5e-b029-4b2b-b43c-055f2310b234"
      },
      "execution_count": null,
      "outputs": [
        {
          "output_type": "execute_result",
          "data": {
            "text/plain": [
              "(0.5363151886832394, 0.338325563286914)"
            ]
          },
          "metadata": {},
          "execution_count": 37
        }
      ]
    },
    {
      "cell_type": "code",
      "source": [
        "# Volatility of both stocks\n",
        "test.pct_change().apply(lambda x: np.log(1+x)).std().apply(lambda x: x*np.sqrt(250)).plot(kind='bar')"
      ],
      "metadata": {
        "colab": {
          "base_uri": "https://localhost:8080/",
          "height": 320
        },
        "id": "cnea0drBjlyz",
        "outputId": "a24862d1-112a-49f7-e521-45df828b96c8"
      },
      "execution_count": null,
      "outputs": [
        {
          "output_type": "execute_result",
          "data": {
            "text/plain": [
              "<matplotlib.axes._subplots.AxesSubplot at 0x7f3af12bbc70>"
            ]
          },
          "metadata": {},
          "execution_count": 38
        },
        {
          "output_type": "display_data",
          "data": {
            "text/plain": [
              "<Figure size 432x288 with 1 Axes>"
            ],
            "image/png": "[encoded data removed]"
          },
          "metadata": {
            "needs_background": "light"
          }
        }
      ]
    },
    {
      "cell_type": "code",
      "source": [
        "# Log of Percentage change\n",
        "test_1 = test.pct_change().apply(lambda x: np.log(1+x))\n",
        "test_1.head()"
      ],
      "metadata": {
        "colab": {
          "base_uri": "https://localhost:8080/",
          "height": 206
        },
        "id": "cB85lQM8j420",
        "outputId": "c4befcae-4a5a-4a36-c2a7-4576ce33ef56"
      },
      "execution_count": null,
      "outputs": [
        {
          "output_type": "execute_result",
          "data": {
            "text/plain": [
              "   Adj Close  Adj Close\n",
              "0        NaN        NaN\n",
              "1  -0.010286   0.017756\n",
              "2  -0.008325  -0.001843\n",
              "3   0.006210   0.013579\n",
              "4   0.060755   0.007624"
            ],
            "text/html": [
              "\n",
              "  <div id=\"df-9fe0a9d0-2360-4843-97f0-43b97cd54a3b\">\n",
              "    <div class=\"colab-df-container\">\n",
              "      <div>\n",
              "<style scoped>\n",
              "    .dataframe tbody tr th:only-of-type {\n",
              "        vertical-align: middle;\n",
              "    }\n",
              "\n",
              "    .dataframe tbody tr th {\n",
              "        vertical-align: top;\n",
              "    }\n",
              "\n",
              "    .dataframe thead th {\n",
              "        text-align: right;\n",
              "    }\n",
              "</style>\n",
              "<table border=\"1\" class=\"dataframe\">\n",
              "  <thead>\n",
              "    <tr style=\"text-align: right;\">\n",
              "      <th></th>\n",
              "      <th>Adj Close</th>\n",
              "      <th>Adj Close</th>\n",
              "    </tr>\n",
              "  </thead>\n",
              "  <tbody>\n",
              "    <tr>\n",
              "      <th>0</th>\n",
              "      <td>NaN</td>\n",
              "      <td>NaN</td>\n",
              "    </tr>\n",
              "    <tr>\n",
              "      <th>1</th>\n",
              "      <td>-0.010286</td>\n",
              "      <td>0.017756</td>\n",
              "    </tr>\n",
              "    <tr>\n",
              "      <th>2</th>\n",
              "      <td>-0.008325</td>\n",
              "      <td>-0.001843</td>\n",
              "    </tr>\n",
              "    <tr>\n",
              "      <th>3</th>\n",
              "      <td>0.006210</td>\n",
              "      <td>0.013579</td>\n",
              "    </tr>\n",
              "    <tr>\n",
              "      <th>4</th>\n",
              "      <td>0.060755</td>\n",
              "      <td>0.007624</td>\n",
              "    </tr>\n",
              "  </tbody>\n",
              "</table>\n",
              "</div>\n",
              "      <button class=\"colab-df-convert\" onclick=\"convertToInteractive('df-9fe0a9d0-2360-4843-97f0-43b97cd54a3b')\"\n",
              "              title=\"Convert this dataframe to an interactive table.\"\n",
              "              style=\"display:none;\">\n",
              "        \n",
              "  <svg xmlns=\"http://www.w3.org/2000/svg\" height=\"24px\"viewBox=\"0 0 24 24\"\n",
              "       width=\"24px\">\n",
              "    <path d=\"M0 0h24v24H0V0z\" fill=\"none\"/>\n",
              "    <path d=\"M18.56 5.44l.94 2.06.94-2.06 2.06-.94-2.06-.94-.94-2.06-.94 2.06-2.06.94zm-11 1L8.5 8.5l.94-2.06 2.06-.94-2.06-.94L8.5 2.5l-.94 2.06-2.06.94zm10 10l.94 2.06.94-2.06 2.06-.94-2.06-.94-.94-2.06-.94 2.06-2.06.94z\"/><path d=\"M17.41 7.96l-1.37-1.37c-.4-.4-.92-.59-1.43-.59-.52 0-1.04.2-1.43.59L10.3 9.45l-7.72 7.72c-.78.78-.78 2.05 0 2.83L4 21.41c.39.39.9.59 1.41.59.51 0 1.02-.2 1.41-.59l7.78-7.78 2.81-2.81c.8-.78.8-2.07 0-2.86zM5.41 20L4 18.59l7.72-7.72 1.47 1.35L5.41 20z\"/>\n",
              "  </svg>\n",
              "      </button>\n",
              "      \n",
              "  <style>\n",
              "    .colab-df-container {\n",
              "      display:flex;\n",
              "      flex-wrap:wrap;\n",
              "      gap: 12px;\n",
              "    }\n",
              "\n",
              "    .colab-df-convert {\n",
              "      background-color: #E8F0FE;\n",
              "      border: none;\n",
              "      border-radius: 50%;\n",
              "      cursor: pointer;\n",
              "      display: none;\n",
              "      fill: #1967D2;\n",
              "      height: 32px;\n",
              "      padding: 0 0 0 0;\n",
              "      width: 32px;\n",
              "    }\n",
              "\n",
              "    .colab-df-convert:hover {\n",
              "      background-color: #E2EBFA;\n",
              "      box-shadow: 0px 1px 2px rgba(60, 64, 67, 0.3), 0px 1px 3px 1px rgba(60, 64, 67, 0.15);\n",
              "      fill: #174EA6;\n",
              "    }\n",
              "\n",
              "    [theme=dark] .colab-df-convert {\n",
              "      background-color: #3B4455;\n",
              "      fill: #D2E3FC;\n",
              "    }\n",
              "\n",
              "    [theme=dark] .colab-df-convert:hover {\n",
              "      background-color: #434B5C;\n",
              "      box-shadow: 0px 1px 3px 1px rgba(0, 0, 0, 0.15);\n",
              "      filter: drop-shadow(0px 1px 2px rgba(0, 0, 0, 0.3));\n",
              "      fill: #FFFFFF;\n",
              "    }\n",
              "  </style>\n",
              "\n",
              "      <script>\n",
              "        const buttonEl =\n",
              "          document.querySelector('#df-9fe0a9d0-2360-4843-97f0-43b97cd54a3b button.colab-df-convert');\n",
              "        buttonEl.style.display =\n",
              "          google.colab.kernel.accessAllowed ? 'block' : 'none';\n",
              "\n",
              "        async function convertToInteractive(key) {\n",
              "          const element = document.querySelector('#df-9fe0a9d0-2360-4843-97f0-43b97cd54a3b');\n",
              "          const dataTable =\n",
              "            await google.colab.kernel.invokeFunction('convertToInteractive',\n",
              "                                                     [key], {});\n",
              "          if (!dataTable) return;\n",
              "\n",
              "          const docLinkHtml = 'Like what you see? Visit the ' +\n",
              "            '<a target=\"_blank\" href=https://colab.research.google.com/notebooks/data_table.ipynb>data table notebook</a>'\n",
              "            + ' to learn more about interactive tables.';\n",
              "          element.innerHTML = '';\n",
              "          dataTable['output_type'] = 'display_data';\n",
              "          await google.colab.output.renderOutput(dataTable, element);\n",
              "          const docLink = document.createElement('div');\n",
              "          docLink.innerHTML = docLinkHtml;\n",
              "          element.appendChild(docLink);\n",
              "        }\n",
              "      </script>\n",
              "    </div>\n",
              "  </div>\n",
              "  "
            ]
          },
          "metadata": {},
          "execution_count": 42
        }
      ]
    },
    {
      "cell_type": "code",
      "source": [
        "# Covariance\n",
        "test_1.cov().iloc[0,1]\n"
      ],
      "metadata": {
        "colab": {
          "base_uri": "https://localhost:8080/"
        },
        "id": "LabfIKhBkPEG",
        "outputId": "f1747e68-7483-4ac9-c054-ca92a9f0b15e"
      },
      "execution_count": null,
      "outputs": [
        {
          "output_type": "execute_result",
          "data": {
            "text/plain": [
              "0.00018291823760020794"
            ]
          },
          "metadata": {},
          "execution_count": 55
        }
      ]
    },
    {
      "cell_type": "code",
      "source": [
        "# Correlation \n",
        "test_1.corr().iloc[0,1]"
      ],
      "metadata": {
        "colab": {
          "base_uri": "https://localhost:8080/"
        },
        "id": "8PFshcPglEvA",
        "outputId": "e62666cc-e9a2-4146-df5e-573b42989fd5"
      },
      "execution_count": null,
      "outputs": [
        {
          "output_type": "execute_result",
          "data": {
            "text/plain": [
              "0.25202411995904467"
            ]
          },
          "metadata": {},
          "execution_count": 56
        }
      ]
    },
    {
      "cell_type": "code",
      "source": [
        "test_2 = test.pct_change().apply(lambda x: np.log(1+x))\n",
        "test_2.head()"
      ],
      "metadata": {
        "colab": {
          "base_uri": "https://localhost:8080/",
          "height": 206
        },
        "id": "zIdOo3tkmbCb",
        "outputId": "9fd09369-9685-4387-b292-93830b78f522"
      },
      "execution_count": null,
      "outputs": [
        {
          "output_type": "execute_result",
          "data": {
            "text/plain": [
              "   Adj Close  Adj Close\n",
              "0        NaN        NaN\n",
              "1  -0.010286   0.017756\n",
              "2  -0.008325  -0.001843\n",
              "3   0.006210   0.013579\n",
              "4   0.060755   0.007624"
            ],
            "text/html": [
              "\n",
              "  <div id=\"df-82d87490-01e3-4b24-8e44-30bebb2e08af\">\n",
              "    <div class=\"colab-df-container\">\n",
              "      <div>\n",
              "<style scoped>\n",
              "    .dataframe tbody tr th:only-of-type {\n",
              "        vertical-align: middle;\n",
              "    }\n",
              "\n",
              "    .dataframe tbody tr th {\n",
              "        vertical-align: top;\n",
              "    }\n",
              "\n",
              "    .dataframe thead th {\n",
              "        text-align: right;\n",
              "    }\n",
              "</style>\n",
              "<table border=\"1\" class=\"dataframe\">\n",
              "  <thead>\n",
              "    <tr style=\"text-align: right;\">\n",
              "      <th></th>\n",
              "      <th>Adj Close</th>\n",
              "      <th>Adj Close</th>\n",
              "    </tr>\n",
              "  </thead>\n",
              "  <tbody>\n",
              "    <tr>\n",
              "      <th>0</th>\n",
              "      <td>NaN</td>\n",
              "      <td>NaN</td>\n",
              "    </tr>\n",
              "    <tr>\n",
              "      <th>1</th>\n",
              "      <td>-0.010286</td>\n",
              "      <td>0.017756</td>\n",
              "    </tr>\n",
              "    <tr>\n",
              "      <th>2</th>\n",
              "      <td>-0.008325</td>\n",
              "      <td>-0.001843</td>\n",
              "    </tr>\n",
              "    <tr>\n",
              "      <th>3</th>\n",
              "      <td>0.006210</td>\n",
              "      <td>0.013579</td>\n",
              "    </tr>\n",
              "    <tr>\n",
              "      <th>4</th>\n",
              "      <td>0.060755</td>\n",
              "      <td>0.007624</td>\n",
              "    </tr>\n",
              "  </tbody>\n",
              "</table>\n",
              "</div>\n",
              "      <button class=\"colab-df-convert\" onclick=\"convertToInteractive('df-82d87490-01e3-4b24-8e44-30bebb2e08af')\"\n",
              "              title=\"Convert this dataframe to an interactive table.\"\n",
              "              style=\"display:none;\">\n",
              "        \n",
              "  <svg xmlns=\"http://www.w3.org/2000/svg\" height=\"24px\"viewBox=\"0 0 24 24\"\n",
              "       width=\"24px\">\n",
              "    <path d=\"M0 0h24v24H0V0z\" fill=\"none\"/>\n",
              "    <path d=\"M18.56 5.44l.94 2.06.94-2.06 2.06-.94-2.06-.94-.94-2.06-.94 2.06-2.06.94zm-11 1L8.5 8.5l.94-2.06 2.06-.94-2.06-.94L8.5 2.5l-.94 2.06-2.06.94zm10 10l.94 2.06.94-2.06 2.06-.94-2.06-.94-.94-2.06-.94 2.06-2.06.94z\"/><path d=\"M17.41 7.96l-1.37-1.37c-.4-.4-.92-.59-1.43-.59-.52 0-1.04.2-1.43.59L10.3 9.45l-7.72 7.72c-.78.78-.78 2.05 0 2.83L4 21.41c.39.39.9.59 1.41.59.51 0 1.02-.2 1.41-.59l7.78-7.78 2.81-2.81c.8-.78.8-2.07 0-2.86zM5.41 20L4 18.59l7.72-7.72 1.47 1.35L5.41 20z\"/>\n",
              "  </svg>\n",
              "      </button>\n",
              "      \n",
              "  <style>\n",
              "    .colab-df-container {\n",
              "      display:flex;\n",
              "      flex-wrap:wrap;\n",
              "      gap: 12px;\n",
              "    }\n",
              "\n",
              "    .colab-df-convert {\n",
              "      background-color: #E8F0FE;\n",
              "      border: none;\n",
              "      border-radius: 50%;\n",
              "      cursor: pointer;\n",
              "      display: none;\n",
              "      fill: #1967D2;\n",
              "      height: 32px;\n",
              "      padding: 0 0 0 0;\n",
              "      width: 32px;\n",
              "    }\n",
              "\n",
              "    .colab-df-convert:hover {\n",
              "      background-color: #E2EBFA;\n",
              "      box-shadow: 0px 1px 2px rgba(60, 64, 67, 0.3), 0px 1px 3px 1px rgba(60, 64, 67, 0.15);\n",
              "      fill: #174EA6;\n",
              "    }\n",
              "\n",
              "    [theme=dark] .colab-df-convert {\n",
              "      background-color: #3B4455;\n",
              "      fill: #D2E3FC;\n",
              "    }\n",
              "\n",
              "    [theme=dark] .colab-df-convert:hover {\n",
              "      background-color: #434B5C;\n",
              "      box-shadow: 0px 1px 3px 1px rgba(0, 0, 0, 0.15);\n",
              "      filter: drop-shadow(0px 1px 2px rgba(0, 0, 0, 0.3));\n",
              "      fill: #FFFFFF;\n",
              "    }\n",
              "  </style>\n",
              "\n",
              "      <script>\n",
              "        const buttonEl =\n",
              "          document.querySelector('#df-82d87490-01e3-4b24-8e44-30bebb2e08af button.colab-df-convert');\n",
              "        buttonEl.style.display =\n",
              "          google.colab.kernel.accessAllowed ? 'block' : 'none';\n",
              "\n",
              "        async function convertToInteractive(key) {\n",
              "          const element = document.querySelector('#df-82d87490-01e3-4b24-8e44-30bebb2e08af');\n",
              "          const dataTable =\n",
              "            await google.colab.kernel.invokeFunction('convertToInteractive',\n",
              "                                                     [key], {});\n",
              "          if (!dataTable) return;\n",
              "\n",
              "          const docLinkHtml = 'Like what you see? Visit the ' +\n",
              "            '<a target=\"_blank\" href=https://colab.research.google.com/notebooks/data_table.ipynb>data table notebook</a>'\n",
              "            + ' to learn more about interactive tables.';\n",
              "          element.innerHTML = '';\n",
              "          dataTable['output_type'] = 'display_data';\n",
              "          await google.colab.output.renderOutput(dataTable, element);\n",
              "          const docLink = document.createElement('div');\n",
              "          docLink.innerHTML = docLinkHtml;\n",
              "          element.appendChild(docLink);\n",
              "        }\n",
              "      </script>\n",
              "    </div>\n",
              "  </div>\n",
              "  "
            ]
          },
          "metadata": {},
          "execution_count": 57
        }
      ]
    },
    {
      "cell_type": "code",
      "source": [
        "# Define weights for allocation\n",
        "w = [0.2, 0.8]\n",
        "e_r_ind = test_2.mean()\n",
        "e_r_ind"
      ],
      "metadata": {
        "colab": {
          "base_uri": "https://localhost:8080/"
        },
        "id": "lYfJJcQXmlyQ",
        "outputId": "d334b9c5-ab67-40f0-ae86-16f5c1dbef6d"
      },
      "execution_count": null,
      "outputs": [
        {
          "output_type": "execute_result",
          "data": {
            "text/plain": [
              "Adj Close    0.000514\n",
              "Adj Close    0.000238\n",
              "dtype: float64"
            ]
          },
          "metadata": {},
          "execution_count": 58
        }
      ]
    },
    {
      "cell_type": "code",
      "source": [
        "# Total expected return\n",
        "e_r = (e_r_ind*w).sum()\n",
        "e_r\n",
        "#> .0003027691524101118"
      ],
      "metadata": {
        "colab": {
          "base_uri": "https://localhost:8080/"
        },
        "id": "bM4UQlvfmu38",
        "outputId": "94ed5151-1d4d-4ae6-acd6-b1d7f3624c15"
      },
      "execution_count": null,
      "outputs": [
        {
          "output_type": "execute_result",
          "data": {
            "text/plain": [
              "0.00029334593761090643"
            ]
          },
          "metadata": {},
          "execution_count": 63
        }
      ]
    }
  ]
}